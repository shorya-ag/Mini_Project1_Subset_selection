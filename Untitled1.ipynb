{
  "nbformat": 4,
  "nbformat_minor": 0,
  "metadata": {
    "colab": {
      "provenance": [],
      "authorship_tag": "ABX9TyOMSY/4EqI3vIn1uxcL0kVQ",
      "include_colab_link": true
    },
    "kernelspec": {
      "name": "python3",
      "display_name": "Python 3"
    },
    "language_info": {
      "name": "python"
    }
  },
  "cells": [
    {
      "cell_type": "markdown",
      "metadata": {
        "id": "view-in-github",
        "colab_type": "text"
      },
      "source": [
        "<a href=\"https://colab.research.google.com/github/shorya-ag/Mini_Project1_Subset_selection/blob/main/Untitled1.ipynb\" target=\"_parent\"><img src=\"https://colab.research.google.com/assets/colab-badge.svg\" alt=\"Open In Colab\"/></a>"
      ]
    },
    {
      "cell_type": "code",
      "execution_count": null,
      "metadata": {
        "id": "DyEyTW2VvT4f"
      },
      "outputs": [],
      "source": []
    },
    {
      "cell_type": "markdown",
      "source": [
        "  ---\n",
        "# **Subset Selection Problem**\n",
        "---\n",
        "####**1. Problem Statement:**\n",
        "Find all the subsets from a set of numbers whose sum is zero.\n",
        "\n",
        "####**Constraint: Subset size must be 5**\n",
        "Set={-12, -3, -6, 7, 2, -2, 6, 3, 9, -7, -5, -8, 1, 11, -9, -4}\n",
        "\n",
        "---"
      ],
      "metadata": {
        "id": "rJe2vtmxvUau"
      }
    },
    {
      "cell_type": "code",
      "source": [
        "#-------------------------------------------------------------\n",
        "# Step 1: Library inclusion                             \n",
        "#-------------------------------------------------------------\n",
        "import random as r\n",
        "\n",
        "\n",
        "#-------------------------------------------------------------\n",
        "# Step 2: Parameter Setting\n",
        "#-------------------------------------------------------------\n",
        "Set         = set([-12, -3, -6, 7, 2, -2, 6, 3, 9, -7, -5, -8, 1, 11, -9, -4])\n",
        "SetSize     = 5\n",
        "ResultList  = set()    # Store Result List i.e. list of sets whose sum is zero\n",
        "Iterations  = 1000   # Number of Inerations\n",
        "\n",
        "\n",
        "#-------------------------------------------------------------\n",
        "# Step3: Start Program\n",
        "#-------------------------------------------------------------\n",
        "\n",
        "# Loop till number of Iterations\n",
        "for i in range(Iterations):\n",
        "    # Select number of elements from Set\n",
        "    Chromosome = r.sample(Set,SetSize)\n",
        "\n",
        "    # Sum the number of elements in the Chromosome\n",
        "    if sum(Chromosome) == 0:\n",
        "        ResultList.add(tuple(Chromosome))\n",
        "\n",
        "# Print all the sets whose sum is zero\n",
        "for r in ResultList:\n",
        "\tprint (r)\n",
        "\n",
        "# Print total sets\n",
        "print (\"\\nTotal Sets: \", len(ResultList))\n"
      ],
      "metadata": {
        "colab": {
          "base_uri": "https://localhost:8080/"
        },
        "id": "cTTv2YQkvU4O",
        "outputId": "f6a975dc-631b-41cd-fcc3-ba95b79416a0"
      },
      "execution_count": 1,
      "outputs": [
        {
          "output_type": "stream",
          "name": "stdout",
          "text": [
            "(2, -6, 6, 3, -5)\n",
            "(-4, -7, 7, 9, -5)\n",
            "(7, -5, -6, 1, 3)\n",
            "(-5, 3, -6, 2, 6)\n",
            "(7, 2, -4, -2, -3)\n",
            "(-12, 6, -4, 1, 9)\n",
            "(1, -2, -12, 11, 2)\n",
            "(-8, 1, 2, 7, -2)\n",
            "(-3, 3, -5, 9, -4)\n",
            "(9, -6, -7, -2, 6)\n",
            "(-12, -6, 9, 3, 6)\n",
            "(3, -3, -2, 6, -4)\n",
            "(-12, 6, 9, -5, 2)\n",
            "(-5, -9, 11, -3, 6)\n",
            "(-9, -6, 7, 2, 6)\n",
            "(9, -4, -9, 1, 3)\n",
            "(9, -6, -3, -2, 2)\n",
            "(11, -3, -8, 9, -9)\n",
            "(-7, 7, -3, -6, 9)\n",
            "(-2, 9, -8, 7, -6)\n",
            "(-2, -4, 9, 3, -6)\n",
            "(1, -9, 11, -6, 3)\n",
            "(-12, -3, -5, 9, 11)\n",
            "(-7, 2, -5, 9, 1)\n",
            "(-4, 3, -2, -8, 11)\n",
            "(-2, -6, 6, 11, -9)\n",
            "(-2, -9, 11, 3, -3)\n",
            "(2, 3, -12, 6, 1)\n",
            "(2, -8, -6, 11, 1)\n",
            "(9, 2, 1, -8, -4)\n",
            "(-7, 7, -8, 2, 6)\n",
            "(3, 1, -4, -2, 2)\n",
            "\n",
            "Total Sets:  32\n"
          ]
        },
        {
          "output_type": "stream",
          "name": "stderr",
          "text": [
            "<ipython-input-1-863105f7322f>:23: DeprecationWarning: Sampling from a set deprecated\n",
            "since Python 3.9 and will be removed in a subsequent version.\n",
            "  Chromosome = r.sample(Set,SetSize)\n"
          ]
        }
      ]
    }
  ]
}